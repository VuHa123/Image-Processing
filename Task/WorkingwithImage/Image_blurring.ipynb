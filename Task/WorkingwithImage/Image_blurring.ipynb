{
 "cells": [
  {
   "cell_type": "markdown",
   "metadata": {},
   "source": [
    "**Image Blur(Làm mờ hình ảnh)** là làm cho hình ảnh ít rõ nét hoặc ít phân biệt hơn. Nó được thực hiện với sự trợ giúp của nhiều hạt nhân bộ lọc thông thấp. Ưu điểm của việc làm mờ:\n",
    "- Nó giúp loại bỏ nhiễu. Vì nhiễu được coi là tín hiệu thông cao nên bằng cách áp dụng hạt nhân bộ lọc thông thấp, chúng ta có thể hạn chế nhiễu.\n",
    "- Nó giúp làm mịn hình ảnh(bằng cách loại bỏ nhiễu và làm mượt biên ảnh)\n",
    "- Các cạnh có cường độ thấp sẽ bị loại bỏ.\n",
    "- Nó giúp che giấu chi tiết khi cần thiết. Ví dụ, trong nhiều trường hợp, cảnh sát cố tình muốn che giấu khuôn mặt của nạn nhân, trong những trường hợp như vậy, cần phải làm mờ."
   ]
  },
  {
   "cell_type": "markdown",
   "metadata": {},
   "source": [
    "### Các loại Blur"
   ]
  },
  {
   "cell_type": "markdown",
   "metadata": {},
   "source": []
  }
 ],
 "metadata": {
  "language_info": {
   "name": "python"
  }
 },
 "nbformat": 4,
 "nbformat_minor": 2
}
