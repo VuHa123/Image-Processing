{
 "cells": [
  {
   "cell_type": "code",
   "execution_count": null,
   "metadata": {
    "id": "8CMFQtw8GQNT"
   },
   "outputs": [],
   "source": [
    "import numpy as np\n",
    "import keras\n",
    "from keras import layers"
   ]
  },
  {
   "cell_type": "markdown",
   "metadata": {
    "id": "3x_5qR1NGnmz"
   },
   "source": [
    "### Prepare the data"
   ]
  },
  {
   "cell_type": "code",
   "execution_count": null,
   "metadata": {
    "id": "uAy6YcotGi9H"
   },
   "outputs": [],
   "source": [
    "# Model / data parameters\n",
    "num_classes = 10\n",
    "input_shape = (28, 28, 1)\n",
    "\n",
    "# Load the data and split it between train and test sets\n",
    "(x_train, y_train), (x_test, y_test) = keras.datasets.mnist.load_data()\n",
    "\n"
   ]
  },
  {
   "cell_type": "code",
   "execution_count": null,
   "metadata": {
    "id": "0-T1DrdYYZIy"
   },
   "outputs": [],
   "source": [
    "# Scale images to the [0, 1] range\n",
    "x_train = x_train.astype(\"float32\") / 255\n",
    "x_test = x_test.astype(\"float32\") / 255\n",
    "# Make sure images have shape (28, 28, 1) vì mạng CNN yêu cầu shape của đầu vào phải là 3 chiều\n",
    "x_train = np.expand_dims(x_train, -1)\n",
    "x_test = np.expand_dims(x_test, -1)\n",
    "print(\"x_train shape:\", x_train.shape)\n",
    "print(x_train.shape[0], \"train samples\")\n",
    "print(x_test.shape[0], \"test samples\")\n",
    "\n",
    "\n",
    "# convert class vectors to binary class matrices\n",
    "y_train = keras.utils.to_categorical(y_train, num_classes)\n",
    "y_test = keras.utils.to_categorical(y_test, num_classes)"
   ]
  },
  {
   "cell_type": "markdown",
   "metadata": {},
   "source": [
    "**Nhận xét**:\n",
    "\n",
    "x_train và x_test sẽ có dạng tensor 4 chiều:\n",
    "\n",
    "- Chiều thứ nhất: Số lượng mẫu dữ liệu (ví dụ: 60000 cho x_train).\n",
    "- Chiều thứ hai: Chiều cao của ảnh (28 pixel).\n",
    "- Chiều thứ ba: Chiều rộng của ảnh (28 pixel).\n",
    "- Chiều thứ tư: Số kênh màu (1 kênh cho ảnh xám).\n",
    "\n",
    "Nói cách khác, đầu vào của mô hình là một tập hợp các ma trận (tensor 3 chiều), mỗi ma trận đại diện cho một ảnh."
   ]
  },
  {
   "cell_type": "markdown",
   "metadata": {
    "id": "THj3O1RmGrWg"
   },
   "source": [
    "### Build the model"
   ]
  },
  {
   "cell_type": "markdown",
   "metadata": {},
   "source": [
    "**Kiến trúc mạng**\n",
    "\n",
    "Mạng Nơ-ron Tích chập (CNN) được xây dựng bằng cách sử dụng Keras' Sequential API. Nó được thiết kế cho phân loại hình ảnh, đặc biệt là cho tập dữ liệu MNIST (chữ số viết tay).\n",
    "\n",
    "Dưới đây là phân tích chi tiết về kiến trúc:\n",
    "\n",
    "1. Lớp đầu vào:\n",
    "\n",
    "- keras.Input(shape=input_shape): Xác định lớp đầu vào, mong đợi hình ảnh có hình dạng input_shape, là (28, 28, 1) cho hình ảnh thang độ xám MNIST.\n",
    "2. Các lớp tích chập:\n",
    "\n",
    "- layers.Conv2D(32, kernel_size=(3, 3), activation=\"relu\"): Lớp tích chập đầu tiên với 32 bộ lọc, mỗi bộ lọc sử dụng kernel 3x3. Nó áp dụng hàm kích hoạt ReLU cho đầu ra.\n",
    "- layers.Conv2D(64, kernel_size=(3, 3), activation=\"relu\"): Lớp tích chập thứ hai với 64 bộ lọc, cũng sử dụng kernel 3x3 và kích hoạt ReLU.\n",
    "Các lớp này trích xuất các đặc trưng từ hình ảnh đầu vào bằng cách sử dụng các bộ lọc đã học.\n",
    "\n",
    "3. Các lớp gộp tối đa:\n",
    "\n",
    "- layers.MaxPooling2D(pool_size=(2, 2)): Hai lớp gộp tối đa với kích thước vùng gộp là 2x2. Các lớp này giảm mẫu các bản đồ đặc trưng, giảm kích thước không gian và độ phức tạp tính toán của chúng.\n",
    "\n",
    "4. Lớp làm phẳng:\n",
    "\n",
    "- layers.Flatten(): Chuyển đổi các bản đồ đặc trưng đa chiều thành một vectơ duy nhất, chuẩn bị dữ liệu cho các lớp được kết nối đầy đủ.\n",
    "\n",
    "5. Lớp Dropout:\n",
    "\n",
    "- layers.Dropout(0.5): Áp dụng điều chuẩn Dropout với tỷ lệ 0.5. Điều này sẽ ngẫu nhiên đặt một phần các đơn vị đầu vào thành 0 trong quá trình huấn luyện, giúp ngăn ngừa hiện tượng quá khớp.\n",
    "\n",
    "6. Lớp đầu ra:\n",
    "\n",
    "- layers.Dense(num_classes, activation=\"softmax\"): Lớp được kết nối đầy đủ cuối cùng với num_classes (10 cho MNIST) đơn vị đầu ra. Nó sử dụng hàm kích hoạt softmax để tạo ra phân phối xác suất trên các lớp, đại diện cho xác suất dự đoán cho mỗi chữ số.\n"
   ]
  },
  {
   "cell_type": "code",
   "execution_count": null,
   "metadata": {
    "id": "yeG4Yej-GlQd"
   },
   "outputs": [],
   "source": [
    "model = keras.Sequential(\n",
    "    [\n",
    "        keras.Input(shape=input_shape),\n",
    "        layers.Conv2D(32, kernel_size=(3, 3), activation=\"relu\"),\n",
    "        layers.MaxPooling2D(pool_size=(2, 2)),\n",
    "        layers.Conv2D(64, kernel_size=(3, 3), activation=\"relu\"),\n",
    "        layers.MaxPooling2D(pool_size=(2, 2)),\n",
    "        layers.Flatten(),\n",
    "        layers.Dropout(0.5),\n",
    "        layers.Dense(num_classes, activation=\"softmax\"),\n",
    "    ]\n",
    ")\n",
    "#Mặc dù một số neuron bị bỏ qua, hình dạng của đầu vào và đầu ra của \n",
    "# lớp Dropout vẫn giữ nguyên. Dropout chỉ đơn giản là làm cho một số \n",
    "# phần tử của vector đầu vào bằng 0, nhưng không làm thay đổi kích thước \n",
    "# hay số chiều của vector.\n",
    "model.summary()"
   ]
  },
  {
   "cell_type": "markdown",
   "metadata": {
    "id": "L8If6eTvGzQ5"
   },
   "source": [
    "### Train the model\n"
   ]
  },
  {
   "cell_type": "code",
   "execution_count": null,
   "metadata": {
    "id": "bqR2aB9UGuOz"
   },
   "outputs": [],
   "source": [
    "batch_size = 128\n",
    "epochs = 15\n",
    "\n",
    "model.compile(loss=\"categorical_crossentropy\", optimizer=\"adam\", metrics=[\"accuracy\"])\n",
    "\n",
    "model.fit(x_train, y_train, batch_size=batch_size, epochs=epochs, validation_split=0.1)\n"
   ]
  },
  {
   "cell_type": "markdown",
   "metadata": {
    "id": "ynIT_4QmG4N-"
   },
   "source": [
    "### Evaluate the trained model"
   ]
  },
  {
   "cell_type": "code",
   "execution_count": null,
   "metadata": {
    "id": "ax_InRJmGwy9"
   },
   "outputs": [],
   "source": [
    "score = model.evaluate(x_test, y_test, verbose=0)\n",
    "print(\"Test loss:\", score[0])\n",
    "print(\"Test accuracy:\", score[1])"
   ]
  },
  {
   "cell_type": "code",
   "execution_count": null,
   "metadata": {
    "id": "ApQrG3BYZ8oN"
   },
   "outputs": [],
   "source": []
  }
 ],
 "metadata": {
  "colab": {
   "private_outputs": true,
   "provenance": []
  },
  "kernelspec": {
   "display_name": "Python 3",
   "name": "python3"
  },
  "language_info": {
   "name": "python"
  }
 },
 "nbformat": 4,
 "nbformat_minor": 0
}
