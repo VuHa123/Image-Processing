{
  "nbformat": 4,
  "nbformat_minor": 0,
  "metadata": {
    "colab": {
      "private_outputs": true,
      "provenance": []
    },
    "kernelspec": {
      "name": "python3",
      "display_name": "Python 3"
    },
    "language_info": {
      "name": "python"
    }
  },
  "cells": [
    {
      "cell_type": "markdown",
      "source": [
        "## 1. Define Data Structures and Helper Function"
      ],
      "metadata": {
        "id": "2Iz_75J6n-mD"
      }
    },
    {
      "cell_type": "code",
      "execution_count": null,
      "metadata": {
        "id": "U2bNhJwCnDw2"
      },
      "outputs": [],
      "source": [
        "import cv2\n",
        "import numpy as np\n",
        "import matplotlib.pyplot as plt\n",
        "import os"
      ]
    },
    {
      "cell_type": "code",
      "source": [
        "# Dictionary of available OpenCV trackers\n",
        "tracker_dict = {\n",
        "    \"BOOSTING\": cv2.legacy.TrackerBoosting_create(),\n",
        "    \"CSRT\": cv2.legacy.TrackerCSRT_create(),\n",
        "    \"KCF\": cv2.legacy.TrackerKCF_create(),\n",
        "    \"MEDIANFLOW\": cv2.legacy.TrackerMedianFlow_create(),\n",
        "    \"MIL\": cv2.legacy.TrackerMIL_create(),\n",
        "    \"MOSSE\": cv2.legacy.TrackerMOSSE_create(),\n",
        "    \"TLD\": cv2.legacy.TrackerTLD_create(),\n",
        "}\n",
        "\n",
        "# Dictionary for common video resolutions\n",
        "resolution_dict = {\n",
        "    \"360p\": (480, 360),\n",
        "    \"480p\": (858, 480),\n",
        "    \"720p\": (1280, 720),\n",
        "    \"1080p\": (1920, 1080),\n",
        "}\n",
        "\n",
        "class VideoSpec:\n",
        "    \"\"\"Class to hold video specifications.\"\"\"\n",
        "    def __init__(self, video_filename, resolution, bbox):\n",
        "        self.video_filename = video_filename\n",
        "        self.res = resolution\n",
        "        self.bbox = bbox\n",
        "\n",
        "def draw_bounding_box(frame, bbox, ok, color=(0, 255, 255), thickness=2):\n",
        "    \"\"\"Draws bounding box on the given frame.\"\"\"\n",
        "    if ok:\n",
        "        p1 = (int(bbox[0]), int(bbox[1]))\n",
        "        p2 = (int(bbox[0] + bbox[2]), int(bbox[1] + bbox[3]))\n",
        "        cv2.rectangle(frame, p1, p2, color, thickness)\n",
        "    else:\n",
        "        cv2.putText(frame, \"Tracking failure detected\", (10, 80),\n",
        "                    cv2.FONT_HERSHEY_SIMPLEX, 0.75, (0, 0, 255), 2)\n",
        "\n",
        "def draw_banner_text(frame, text, banner_height_percent=0.08,\n",
        "                     font_scale=1.5, font_thickness=2, text_alignment=\"center\", text_color=(0, 255, 0)):\n",
        "    \"\"\"Draws a banner at the top of the frame and overlays text.\"\"\"\n",
        "\n",
        "    # Determine banner height as a percentage of frame height\n",
        "    banner_height = int(banner_height_percent * frame.shape[0])\n",
        "\n",
        "    # Draw black rectangle banner\n",
        "    cv2.rectangle(frame, (0, 0), (frame.shape[1], banner_height), (0, 0, 0), thickness=-1)\n",
        "\n",
        "    # Get frame width\n",
        "    width = frame.shape[0]\n",
        "\n",
        "    # Define text alignment positions\n",
        "    alignment_dict = {\n",
        "        \"left\": width // 4,\n",
        "        \"center\": width // 2,\n",
        "        \"right\": width * 3 // 4\n",
        "    }\n",
        "    left_offset = alignment_dict[text_alignment]\n",
        "    location = [left_offset, banner_height - 10]\n",
        "    cv2.putText(frame, text, location, cv2.FONT_HERSHEY_PLAIN, font_scale, text_color, font_thickness, cv2.LINE_AA)\n",
        "def draw_text(frame, text, location=(20, 20), font_scale=1, color=(50, 170, 50), font_thickness=2):\n",
        "    \"\"\"\n",
        "    Draws text on the given frame at a specified location.\n",
        "\n",
        "    :param frame: Image frame\n",
        "    :param text: Text to display\n",
        "    :param location: (x, y) position for the text\n",
        "    :param font_scale: Font size\n",
        "    :param color: Text color in BGR format\n",
        "    :param font_thickness: Thickness of the text\n",
        "    \"\"\"\n",
        "    cv2.putText(frame, text, location, cv2.FONT_HERSHEY_SIMPLEX, font_scale, color, font_thickness, cv2.LINE_AA)\n",
        "\n",
        "def get_trackers(tracker_names, tracker_dict):\n",
        "    \"\"\"\n",
        "    Creates a list of tracker objects based on given tracker names.\n",
        "\n",
        "    :param tracker_names: List of tracker names\n",
        "    :param tracker_dict: Dictionary mapping tracker names to tracker objects\n",
        "    :return: List of tracker objects\n",
        "    \"\"\"\n",
        "    tracker_objects = [tracker_dict[tracker] for tracker in tracker_names]\n",
        "    return tracker_objects\n",
        "\n",
        "def initialize_trackers(tracker_objects, frame, bbox):\n",
        "    \"\"\"\n",
        "    Initializes all trackers with the given frame and bounding box.\n",
        "\n",
        "    :param tracker_objects: List of tracker objects\n",
        "    :param frame: Initial video frame\n",
        "    :param bbox: Bounding box coordinates\n",
        "    \"\"\"\n",
        "    for tracker in tracker_objects:\n",
        "        tracker.init(frame, bbox)\n",
        "\n",
        "def get_tracker_results(tracker_objects, frame, tracker_names):\n",
        "    \"\"\"\n",
        "    Updates all trackers and returns the tracking results.\n",
        "\n",
        "    :param tracker_objects: List of tracker objects\n",
        "    :param frame: Current video frame\n",
        "    :param tracker_names: List of tracker names\n",
        "    :return: List of tracking results for each tracker\n",
        "    \"\"\"\n",
        "    n = len(tracker_objects)\n",
        "    init_frames_list = [frame.copy() for _ in range(n)]\n",
        "    final_frames_list = []\n",
        "\n",
        "    for i in range(n):\n",
        "        ok, result = update_tracker(tracker_objects[i], init_frames_list[i])\n",
        "        final_frames_list.append(result)\n",
        "\n",
        "    return final_frames_list\n",
        "\n",
        "def update_tracker(tracker, frame):\n",
        "    \"\"\"\n",
        "    Updates a single tracker and returns the updated bounding box.\n",
        "\n",
        "    :param tracker: Tracker object\n",
        "    :param frame: Current video frame\n",
        "    :return: Tuple (ok, bbox) where ok is True if tracking was successful\n",
        "    \"\"\"\n",
        "    timer = cv2.getTickCount()\n",
        "    ok, bbox = tracker.update(frame)\n",
        "\n",
        "    # Calculate Frames per Second (FPS)\n",
        "    fps = cv2.getTickFrequency() / (cv2.getTickCount() - timer)\n",
        "    #Draw bbox\n",
        "    draw_bounding_box(frame, bbox, ok)\n",
        "    #Display tracker type on frame\n",
        "    draw_banner_text(frame, f\"Tracker: {tracker.__class__.__name__}\")\n",
        "    # Display FPS on frame\n",
        "    draw_text(frame, f\"FPS: {fps:.2f}\")\n",
        "    return ok, frame\n"
      ],
      "metadata": {
        "id": "Rws9uzzGoqy4"
      },
      "execution_count": null,
      "outputs": []
    },
    {
      "cell_type": "code",
      "source": [
        "def get_output_video_dims(tracker_names, resolution_specs):\n",
        "    \"\"\"\n",
        "    Computes the output video dimensions based on the number of trackers and resolution specs.\n",
        "\n",
        "    :param tracker_names: List of tracker names\n",
        "    :param resolution_specs: Tuple (width, height) of the base resolution\n",
        "    :return: Tuple (output_width, output_height)\n",
        "    \"\"\"\n",
        "    width, height = resolution_specs\n",
        "    n = len(tracker_names)\n",
        "\n",
        "    # Determine the optimal grid size for arranging frames\n",
        "    cols = min(4, n)  # Maximum 4 columns\n",
        "    rows = (n + cols - 1) // cols  # Compute rows needed\n",
        "\n",
        "    return width * cols, height * rows\n",
        "\n",
        "def align_frames(frames_list):\n",
        "    \"\"\"\n",
        "    Aligns multiple frames in a grid layout based on the number of frames.\n",
        "\n",
        "    :param frames_list: List of frames to be arranged\n",
        "    :return: Single combined frame\n",
        "    \"\"\"\n",
        "    n = len(frames_list)\n",
        "\n",
        "    if n == 1:\n",
        "        return frames_list[0]\n",
        "\n",
        "    cols = min(4, n)  # Maximum 4 columns\n",
        "    rows = (n + cols - 1) // cols  # Compute rows needed\n",
        "\n",
        "    # Pad frames list if necessary to make it a full grid\n",
        "    while len(frames_list) < rows * cols:\n",
        "        frames_list.append(np.zeros_like(frames_list[0]))  # Black frame as filler\n",
        "\n",
        "    # Stack frames row-wise\n",
        "    row_frames = [np.hstack(frames_list[i * cols:(i + 1) * cols]) for i in range(rows)]\n",
        "\n",
        "    return np.vstack(row_frames)"
      ],
      "metadata": {
        "id": "41Gs_aeXouU5"
      },
      "execution_count": null,
      "outputs": []
    },
    {
      "cell_type": "markdown",
      "source": [
        "## 2. Define the Main Controller for Tracking"
      ],
      "metadata": {
        "id": "kaI5socIra3B"
      }
    },
    {
      "cell_type": "code",
      "source": [
        "def run_tracker(tracker_names, video_spec, video_output_file_name):\n",
        "    \"\"\"\n",
        "    Runs object tracking on a video using specified tracking algorithms.\n",
        "\n",
        "    :param tracker_names: List of tracker names\n",
        "    :param video_spec: VideoSpec object containing video file name, resolution, and bbox\n",
        "    :param video_output_file_name: Name of the output video file\n",
        "    \"\"\"\n",
        "\n",
        "    # Create video capture object\n",
        "    video_cap = cv2.VideoCapture(video_spec.video_filename)\n",
        "\n",
        "    # Confirm video file can be opened\n",
        "    if not video_cap.isOpened():\n",
        "        print(\"Error: Could not open video file.\")\n",
        "        sys.exit()\n",
        "\n",
        "    # Retrieve video properties\n",
        "    width = int(video_cap.get(cv2.CAP_PROP_FRAME_WIDTH))\n",
        "    height = int(video_cap.get(cv2.CAP_PROP_FRAME_HEIGHT))\n",
        "    fps = int(video_cap.get(cv2.CAP_PROP_FPS))\n",
        "\n",
        "    # Set up video writer for output\n",
        "    fourcc = cv2.VideoWriter_fourcc(*'mp4v')\n",
        "    fps_write = fps  # Can be adjusted if needed\n",
        "\n",
        "    resolution_specs = resolution_dict.get(video_spec.res)\n",
        "    output_video_dim = get_output_video_dims(tracker_names, resolution_specs)\n",
        "\n",
        "    video_out = cv2.VideoWriter(video_output_file_name, fourcc, fps_write, output_video_dim)\n",
        "\n",
        "    # Read first frame\n",
        "    ok, frame = video_cap.read()\n",
        "    if not ok:\n",
        "        print(\"Error: Cannot read video file.\")\n",
        "        sys.exit()\n",
        "\n",
        "    # Resize the frame to match the specified resolution\n",
        "    frame = cv2.resize(frame, resolution_specs, interpolation=cv2.INTER_AREA)\n",
        "\n",
        "    # Initialize tracker objects\n",
        "    tracker_objects = get_trackers(tracker_names, tracker_dict)\n",
        "    initialize_trackers(tracker_objects, frame, video_spec.bbox)\n",
        "\n",
        "    # Process video frames\n",
        "    while True:\n",
        "    # Read a new frame from the video\n",
        "        ok, frame = video_cap.read()\n",
        "        if not ok:\n",
        "            break  # Exit loop if no more frames are available\n",
        "\n",
        "        # Resize the frame to match the desired resolution\n",
        "        frame = cv2.resize(frame, resolution_specs, interpolation=cv2.INTER_AREA)\n",
        "\n",
        "        # Get tracking results for all trackers\n",
        "        tracked_frames = get_tracker_results(tracker_objects, frame, tracker_names)\n",
        "\n",
        "        # Align and merge tracked frames into a final multi-view layout\n",
        "        output_frame = align_frames(tracked_frames)\n",
        "\n",
        "        # Write the processed frame to the output video\n",
        "        video_out.write(output_frame)\n",
        "\n",
        "    # Release resources when finished\n",
        "    video_cap.release()\n",
        "    video_out.release()"
      ],
      "metadata": {
        "id": "lNRDoOrLrgJ0"
      },
      "execution_count": null,
      "outputs": []
    },
    {
      "cell_type": "markdown",
      "source": [
        "## 3. Input specification and Execution"
      ],
      "metadata": {
        "id": "PCZDD0VSsOUq"
      }
    },
    {
      "cell_type": "code",
      "source": [
        "# Define input video file\n",
        "input_video = \"/content/5991156-hd_1280_720_30fps.mp4\"\n",
        "\n",
        "# Define output video file path\n",
        "video_output_prefix = \"test_1x2\"\n",
        "video_output_file_name = f\"tracking_analysis_output_videos/{video_output_prefix}.mp4\"\n",
        "\n",
        "# List of tracking algorithms to use\n",
        "trackers = [\"BOOSTING\", \"CSRT\"]\n",
        "\n",
        "# Create a video specification object (resolution, bounding box)\n",
        "video_obj = VideoSpec(input_video, \"480p\", (370, 225, 180, 80))\n",
        "\n",
        "# Run the tracking process\n",
        "run_tracker(trackers, video_obj, video_output_file_name)"
      ],
      "metadata": {
        "id": "WU9weaOAsCNa"
      },
      "execution_count": null,
      "outputs": []
    },
    {
      "cell_type": "markdown",
      "source": [
        "Display the tracking results: 1x2"
      ],
      "metadata": {
        "id": "x4BurEBIseZr"
      }
    },
    {
      "cell_type": "code",
      "source": [
        "from moviepy.editor import *\n",
        "\n",
        "clip = VideoFileClip('tracking_analysis_output_videos/test_1x2.mp4')\n",
        "clip.ipython_display(width=1000)"
      ],
      "metadata": {
        "id": "DWomEhUlsjBb"
      },
      "execution_count": null,
      "outputs": []
    },
    {
      "cell_type": "code",
      "source": [],
      "metadata": {
        "id": "JzBs6yhBufFE"
      },
      "execution_count": null,
      "outputs": []
    }
  ]
}