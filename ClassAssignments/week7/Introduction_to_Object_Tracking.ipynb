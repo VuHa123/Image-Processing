{
  "nbformat": 4,
  "nbformat_minor": 0,
  "metadata": {
    "colab": {
      "private_outputs": true,
      "provenance": []
    },
    "kernelspec": {
      "name": "python3",
      "display_name": "Python 3"
    },
    "language_info": {
      "name": "python"
    }
  },
  "cells": [
    {
      "cell_type": "markdown",
      "source": [
        "## Tracking Models Available in the OpenCV Tracker Class\n",
        "1. Boosting\n",
        "2. CSRT\n",
        "3. KCF\n",
        "4. MEDIANPLOW\n",
        "5. MIL\n",
        "6. MOSSE\n",
        "7. TLD"
      ],
      "metadata": {
        "id": "DqejUdTXczn5"
      }
    },
    {
      "cell_type": "markdown",
      "source": [
        "Điểm nổi bật ngắn gọn của mỗi Trình theo dõi đối tượng bên dưới:\n",
        "Trình theo dõi tăng cường: Dựa trên cùng một thuật toán được sử dụng để cung cấp năng lượng cho máy học đằng sau Haar Cascades (Adaboost), nhưng giống như Haar Cascades, đã hơn một thập kỷ. Trình theo dõi này chậm và không hoạt động rất tốt. Thú vị chỉ vì lý do di sản và so sánh các thuật toán khác.\n",
        "\n",
        "Trình theo dõi MIL: Độ chính xác tốt hơn so với việc tăng cường theo dõi nhưng thực hiện một công việc kém về báo cáo thất bại.\n",
        "\n",
        "Trình theo dõi KCF: Bộ lọc tương quan hạt nhân. Nhanh hơn tăng và mil. Tương tự như MIL và KCF, không xử lý tốt việc tắc hoàn toàn. Bộ lọc Ation (với độ tin cậy của kênh và không gian). Có xu hướng chính xác hơn KCF nhưng chậm hơn một chút.\n",
        "\n",
        "Trình theo dõi CSRT: Bộ lọc tương quan phân biệt đối xử (với độ tin cậy của kênh và không gian). Có xu hướng chính xác hơn KCF nhưng chậm hơn một chút.\n",
        "\n",
        "Trình theo dõi MedianFlow: Làm một công việc tốt báo cáo thất bại; Tuy nhiên, nếu có quá nhiều bước nhảy trong chuyển động, chẳng hạn như các đối tượng di chuyển nhanh hoặc các đối tượng thay đổi nhanh chóng về ngoại hình của chúng, mô hình sẽ thất bại.\n",
        "\n",
        "Trình theo dõi TLD: Tôi không chắc chắn có vấn đề với việc triển khai OpenCV của Trình theo dõi TLD hay chính thuật toán thực tế không, nhưng Trình theo dõi TLD cực kỳ dễ bị ảnh hưởng đến các chất giả. Tôi không khuyên bạn nên sử dụng trình theo dõi đối tượng OpenCV này.\n",
        "\n",
        "Trình theo dõi Mosse: Rất, rất nhanh. Không chính xác như CSRT hoặc KCF nhưng là một lựa chọn tốt nếu bạn cần tốc độ thuần túy.\n",
        "\n",
        "Goturn Tracker: Trình phát hiện đối tượng dựa trên học tập sâu duy nhất có trong OpenCV. Nó yêu cầu các tệp mô hình caffe bổ sung để chạy.\n",
        "\n"
      ],
      "metadata": {
        "id": "gjddXi3vgAG_"
      }
    },
    {
      "cell_type": "markdown",
      "source": [
        "Sử dụng CSRT khi bạn cần độ chính xác theo dõi đối tượng cao hơn và có thể chịu được thông lượng FPS chậm hơn\n",
        "Sử dụng KCF khi bạn cần thông lượng FPS nhanh hơn nhưng có thể xử lý độ chính xác theo dõi đối tượng thấp hơn một chút\n",
        "Sử dụng mosse khi bạn cần tốc độ tinh khiết"
      ],
      "metadata": {
        "id": "q9Y4Y3oWgHY_"
      }
    },
    {
      "cell_type": "code",
      "source": [],
      "metadata": {
        "id": "H2TaQka0f_36"
      },
      "execution_count": null,
      "outputs": []
    },
    {
      "cell_type": "code",
      "execution_count": null,
      "metadata": {
        "id": "6wXE4K-2dtBX"
      },
      "outputs": [],
      "source": [
        "import cv2\n",
        "import sys\n",
        "import os\n",
        "import matplotlib.pyplot as plt\n",
        "from moviepy.editor import VideoFileClip"
      ]
    },
    {
      "cell_type": "code",
      "source": [
        "input_video = '/content/5991156-hd_1280_720_30fps.mp4'\n",
        "clip = VideoFileClip(input_video)\n",
        "clip.ipython_display(width=640)"
      ],
      "metadata": {
        "id": "FWO5l7wscxsK"
      },
      "execution_count": null,
      "outputs": []
    },
    {
      "cell_type": "markdown",
      "source": [
        "## 2. Define Annotation Convenience Functions"
      ],
      "metadata": {
        "id": "84rAQrIle43Q"
      }
    },
    {
      "cell_type": "code",
      "source": [
        "def drawBannerText(frame, text, banner_height_percent=0.08, font_scale=0.8, text_color=(0, 255, 0), font_thickness=2):\n",
        "    \"\"\"\n",
        "    Vẽ một banner đen trên đầu khung hình và thêm văn bản vào đó.\n",
        "    \"\"\"\n",
        "    # Xác định chiều cao banner\n",
        "    banner_height = int(banner_height_percent * frame.shape[0])\n",
        "\n",
        "    # Vẽ hình chữ nhật đen làm banner\n",
        "    cv2.rectangle(frame, (0, 0), (frame.shape[1], banner_height), (0, 0, 0), thickness=-1)\n",
        "\n",
        "    # Thêm văn bản vào banner\n",
        "    left_offset = 20\n",
        "    location = (left_offset, int(15 + (banner_height_percent * frame.shape[0]) / 2))\n",
        "    cv2.putText(frame, text, location, cv2.FONT_HERSHEY_SIMPLEX, font_scale, text_color, font_thickness, cv2.LINE_AA)\n",
        "\n",
        "def drawRectangle(frame, bbox, color=(255, 0, 0)):\n",
        "    \"\"\"\n",
        "    Vẽ một hình chữ nhật trên khung hình theo tọa độ bbox.\n",
        "    \"\"\"\n",
        "    p1 = (int(bbox[0]), int(bbox[1]))\n",
        "    p2 = (int(bbox[0] + bbox[2]), int(bbox[1] + bbox[3]))\n",
        "    cv2.rectangle(frame, p1, p2, color, 2, 1)\n",
        "\n",
        "def displayRectangle(frame, bbox, color=(255, 0, 0)):\n",
        "    \"\"\"\n",
        "    Hiển thị khung hình với hình chữ nhật vẽ trên đó.\n",
        "    \"\"\"\n",
        "    plt.figure(figsize=(20, 10))\n",
        "    frameCopy = frame.copy()\n",
        "    drawRectangle(frameCopy, bbox, color)\n",
        "    frameCopy = cv2.cvtColor(frameCopy, cv2.COLOR_RGB2BGR)\n",
        "    plt.imshow(frameCopy)\n",
        "    plt.axis('off')\n",
        "    plt.show()\n",
        "\n",
        "def drawText(frame, text, location=(20, 20), font_scale=1, color=(50, 170, 50), font_thickness=2):\n",
        "    \"\"\"\n",
        "    Vẽ văn bản lên khung hình tại vị trí chỉ định.\n",
        "    \"\"\"\n",
        "    color = (0, 255, 0)\n",
        "    font_scale = 0.8\n",
        "    cv2.putText(frame, text, location, cv2.FONT_HERSHEY_SIMPLEX, font_scale, color, font_thickness, cv2.LINE_AA)\n",
        "\n"
      ],
      "metadata": {
        "id": "-bzEgwpQeLyq"
      },
      "execution_count": null,
      "outputs": []
    },
    {
      "cell_type": "markdown",
      "source": [
        "## 3. Create a Tracker Instance"
      ],
      "metadata": {
        "id": "-c_x5YYois6V"
      }
    },
    {
      "cell_type": "code",
      "source": [
        "# Set up tracker.\n",
        "tracker_types = ['BOOSTING', 'CSRT', 'KCF', 'MEDIANFLOW', 'MIL', 'MOSSE', 'TLD']\n",
        "\n",
        "# Change the index to change the tracker type.\n",
        "tracker_type = tracker_types[0]\n",
        "\n",
        "# Create the selected tracker\n",
        "if tracker_type == 'BOOSTING':\n",
        "    tracker = cv2.legacy.TrackerBoosting_create()\n",
        "elif tracker_type == 'CSRT':\n",
        "    tracker = cv2.legacy.TrackerCSRT_create()\n",
        "elif tracker_type == 'KCF':\n",
        "    tracker = cv2.legacy.TrackerKCF_create()\n",
        "elif tracker_type == 'MEDIANFLOW':\n",
        "    tracker = cv2.legacy.TrackerMedianFlow_create()\n",
        "elif tracker_type == 'MIL':\n",
        "    tracker = cv2.legacy.TrackerMIL_create()\n",
        "elif tracker_type == 'MOSSE':\n",
        "    tracker = cv2.legacy.TrackerMOSSE_create()\n",
        "elif tracker_type == 'TLD':\n",
        "    tracker = cv2.legacy.TrackerTLD_create()"
      ],
      "metadata": {
        "id": "2p2bxXluirx7"
      },
      "execution_count": null,
      "outputs": []
    },
    {
      "cell_type": "markdown",
      "source": [
        "## 4. Create Video Capture and Video Writer Objects"
      ],
      "metadata": {
        "id": "DJP801h_jMCW"
      }
    },
    {
      "cell_type": "code",
      "source": [
        "# Read video\n",
        "video_input_file_name = \"/content/5991156-hd_1280_720_30fps.mp4\"\n",
        "\n",
        "# Create output file name for annotated video\n",
        "video_output_file_name = os.path.splitext(os.path.basename(video_input_file_name))[0] + \"_\" + tracker_type + \".mp4\"\n",
        "\n",
        "# Create video capture object\n",
        "video_cap = cv2.VideoCapture(video_input_file_name)\n",
        "\n",
        "# Read first frame from video\n",
        "ok, frame = video_cap.read()\n",
        "\n",
        "# Confirm video file can be opened\n",
        "if video_cap.isOpened():\n",
        "    width = int(video_cap.get(cv2.CAP_PROP_FRAME_WIDTH))\n",
        "    height = int(video_cap.get(cv2.CAP_PROP_FRAME_HEIGHT))\n",
        "    fps = int(video_cap.get(cv2.CAP_PROP_FPS))\n",
        "else:\n",
        "    print(\"Could not open video\")\n",
        "    sys.exit()\n",
        "\n",
        "fps_write = 20  # Slow down video for demonstration purposes\n",
        "\n",
        "# Set up video writer for mp4\n",
        "fourcc = cv2.VideoWriter_fourcc(*\"mp4v\")\n",
        "\n",
        "# Create video writer object\n",
        "video_out = cv2.VideoWriter(video_output_file_name, fourcc, fps_write, (width, height))"
      ],
      "metadata": {
        "id": "h7bf5CssjG0y"
      },
      "execution_count": null,
      "outputs": []
    },
    {
      "cell_type": "markdown",
      "source": [
        "## 5. Define the Initial BBox"
      ],
      "metadata": {
        "id": "RJArYHmSkZj_"
      }
    },
    {
      "cell_type": "code",
      "source": [
        "# Define a bounding box for the location of the object in the first video frame.\n",
        "bbox = (530, 310, 420, 180)  # Coordinates for race car\n",
        "\n",
        "# Check if a bounding box has been defined. If not, allow the user to select it manually.\n",
        "if bbox is None:\n",
        "    # Display the first frame of the video and use the mouse to specify a bounding box.\n",
        "    # When done, press the space bar or Enter key to confirm.\n",
        "    bbox = cv2.selectROI(frame, False)  # Note: May cause Python to hang on MacOS.\n",
        "    print(bbox)\n",
        "\n",
        "# Create a copy of the frame and display the bounding box.\n",
        "frame_copy = frame.copy()\n",
        "displayRectangle(frame_copy, bbox, color=(0, 255, 255))"
      ],
      "metadata": {
        "id": "V1ImYl_njh3_"
      },
      "execution_count": null,
      "outputs": []
    },
    {
      "cell_type": "markdown",
      "source": [
        "## 6. Intilialize Trạcker"
      ],
      "metadata": {
        "id": "5bam_2TBkvVo"
      }
    },
    {
      "cell_type": "code",
      "source": [
        "tracker.init(frame, bbox)"
      ],
      "metadata": {
        "id": "mg2NVvkDj2r_"
      },
      "execution_count": null,
      "outputs": []
    },
    {
      "cell_type": "markdown",
      "source": [
        "## 7. Processes Video Frame and Track Object"
      ],
      "metadata": {
        "id": "iIAbMB80k8yL"
      }
    },
    {
      "cell_type": "code",
      "source": [
        "while True:\n",
        "    ok, frame = video_cap.read()\n",
        "    if not ok:\n",
        "        break\n",
        "\n",
        "    # Start timer\n",
        "    timer = cv2.getTickCount()\n",
        "\n",
        "    # Update tracker\n",
        "    ok, bbox = tracker.update(frame)\n",
        "\n",
        "    # Calculate Frames per second (FPS)\n",
        "    fps = cv2.getTickFrequency() / (cv2.getTickCount() - timer)\n",
        "\n",
        "    # Draw bounding box\n",
        "    if ok:\n",
        "        drawRectangle(frame, bbox, color=(0, 255, 255))\n",
        "    else:\n",
        "        drawText(frame, \"Tracking failure detected\", location=(80, 140), color=(0, 0, 255))\n",
        "\n",
        "    # Display Info\n",
        "    drawBannerText(frame, f\"{tracker_type} Tracker, FPS: {int(fps)}\")\n",
        "\n",
        "    # Write frame to video\n",
        "    video_out.write(frame)\n",
        "\n",
        "# Release video capture and writer objects\n",
        "video_cap.release()\n",
        "video_out.release()"
      ],
      "metadata": {
        "id": "63f0cCOIk78L"
      },
      "execution_count": null,
      "outputs": []
    },
    {
      "cell_type": "code",
      "source": [
        "from moviepy.editor import *\n",
        "clip = VideoFileClip(video_output_file_name)\n",
        "clip = clip.resize(height=600)\n",
        "clip.ipython_display()"
      ],
      "metadata": {
        "id": "yHTi6b8PlPQW"
      },
      "execution_count": null,
      "outputs": []
    },
    {
      "cell_type": "code",
      "source": [],
      "metadata": {
        "id": "uq1ivkklmEh_"
      },
      "execution_count": null,
      "outputs": []
    }
  ]
}