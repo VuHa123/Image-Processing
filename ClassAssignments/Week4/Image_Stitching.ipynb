{
  "metadata": {
    "kernelspec": {
      "name": "python3",
      "display_name": "Python 3"
    },
    "language_info": {
      "name": "python",
      "version": "3.10.12",
      "mimetype": "text/x-python",
      "codemirror_mode": {
        "name": "ipython",
        "version": 3
      },
      "pygments_lexer": "ipython3",
      "nbconvert_exporter": "python",
      "file_extension": ".py"
    },
    "colab": {
      "private_outputs": true,
      "provenance": [],
      "gpuType": "T4",
      "name": "Image Stitching"
    },
    "accelerator": "GPU",
    "kaggle": {
      "accelerator": "none",
      "dataSources": [],
      "dockerImageVersionId": 30822,
      "isInternetEnabled": true,
      "language": "python",
      "sourceType": "notebook",
      "isGpuEnabled": false
    }
  },
  "nbformat_minor": 0,
  "nbformat": 4,
  "cells": [
    {
      "cell_type": "code",
      "source": [
        "# do các bản opencv mới nhất không có SIFT (có bản quyền) nên ta cần downgrad openCV\n",
        "!pip uninstall opencv-python opencv-contrib-python\n",
        "!pip install opencv-python opencv-contrib-python\n"
      ],
      "metadata": {
        "id": "jQr8iD2z_TlK",
        "trusted": true,
        "execution": {
          "iopub.status.busy": "2024-12-25T17:54:56.413633Z",
          "iopub.execute_input": "2024-12-25T17:54:56.414045Z",
          "iopub.status.idle": "2024-12-25T17:55:02.166071Z",
          "shell.execute_reply.started": "2024-12-25T17:54:56.414005Z",
          "shell.execute_reply": "2024-12-25T17:55:02.163389Z"
        }
      },
      "outputs": [],
      "execution_count": null
    },
    {
      "cell_type": "code",
      "source": [
        "import cv2\n",
        "import numpy as np\n",
        "import matplotlib.pyplot as plt\n",
        "import imutils\n",
        "import imageio"
      ],
      "metadata": {
        "id": "x-0-OtNn-X2w"
      },
      "execution_count": null,
      "outputs": []
    },
    {
      "cell_type": "code",
      "source": [
        "def plot_img(img, size=(7,7), title=\"\"):\n",
        "    cmap = \"gray\" if len(img.shape) == 2 else None\n",
        "    plt.figure(figsize=size)\n",
        "    plt.imshow(img, cmap=cmap)\n",
        "    plt.suptitle(title)\n",
        "    plt.show()\n",
        "\n",
        "def plot_imgs(imgs, cols=5, size=7, title=\"\"):\n",
        "    rows = len(imgs)//cols + 1\n",
        "    fig = plt.figure(figsize=(cols*size, rows*size))\n",
        "    for i, img in enumerate(imgs):\n",
        "        cmap=\"gray\" if len(img.shape) == 2 else None\n",
        "        fig.add_subplot(rows, cols, i+1)\n",
        "        plt.imshow(img, cmap=cmap)\n",
        "    plt.suptitle(title)\n",
        "    plt.show()\n",
        "\n",
        "\n",
        "src_img = imageio.imread('http://www.ic.unicamp.br/~helio/imagens_registro/foto1A.jpg')\n",
        "tar_img = imageio.imread('http://www.ic.unicamp.br/~helio/imagens_registro/foto1B.jpg')\n",
        "src_gray = cv2.cvtColor(src_img, cv2.COLOR_RGB2GRAY)\n",
        "tar_gray = cv2.cvtColor(tar_img, cv2.COLOR_RGB2GRAY)\n",
        "plot_imgs([src_img, tar_img], size=8)"
      ],
      "metadata": {
        "id": "IC_NTATJxV1r",
        "trusted": true,
        "execution": {
          "iopub.status.busy": "2024-12-25T17:55:02.167067Z",
          "iopub.status.idle": "2024-12-25T17:55:02.167462Z",
          "shell.execute_reply": "2024-12-25T17:55:02.167327Z"
        }
      },
      "outputs": [],
      "execution_count": null
    },
    {
      "cell_type": "code",
      "source": [
        "def plot_imgs(imgs, cols=5, size=7, title=\"\"):\n",
        "    rows = len(imgs)//cols + 1\n",
        "    fig = plt.figure(figsize=(cols*size, rows*size))\n",
        "    for i, img in enumerate(imgs):\n",
        "        cmap=\"gray\" if len(img.shape) == 2 else None\n",
        "        fig.add_subplot(rows, cols, i+1)\n",
        "        plt.imshow(img, cmap=cmap)\n",
        "    plt.suptitle(title)\n",
        "    plt.show()\n",
        "\n",
        "\n"
      ],
      "metadata": {
        "id": "cB65oT64xb0A",
        "trusted": true,
        "execution": {
          "iopub.status.busy": "2024-12-25T17:55:02.168322Z",
          "iopub.status.idle": "2024-12-25T17:55:02.168649Z",
          "shell.execute_reply": "2024-12-25T17:55:02.168515Z"
        }
      },
      "outputs": [],
      "execution_count": null
    },
    {
      "cell_type": "code",
      "source": [
        "src_img = imageio.imread('http://www.ic.unicamp.br/~helio/imagens_registro/foto1A.jpg')\n",
        "tar_img = imageio.imread('http://www.ic.unicamp.br/~helio/imagens_registro/foto1B.jpg')\n",
        "src_gray = cv2.cvtColor(src_img, cv2.COLOR_RGB2GRAY)\n",
        "tar_gray = cv2.cvtColor(tar_img, cv2.COLOR_RGB2GRAY)\n",
        "plot_imgs([src_img, tar_img], size=8)"
      ],
      "metadata": {
        "id": "x0lqGjDVxdsR",
        "trusted": true,
        "execution": {
          "iopub.status.busy": "2024-12-25T17:55:02.16948Z",
          "iopub.status.idle": "2024-12-25T17:55:02.1698Z",
          "shell.execute_reply": "2024-12-25T17:55:02.169674Z"
        }
      },
      "outputs": [],
      "execution_count": null
    },
    {
      "cell_type": "code",
      "source": [
        "SIFT_detector = cv2.xfeatures2d.SIFT_create()\n",
        "kp1, des1 = SIFT_detector.detectAndCompute(src_gray, None)\n",
        "kp2, des2 = SIFT_detector.detectAndCompute(tar_gray, None)\n",
        "\n",
        "## Match keypoint\n",
        "bf = cv2.BFMatcher(cv2.NORM_L2, crossCheck=False)\n",
        "\n",
        "## Bruce Force KNN trả về list k ứng viên cho mỗi keypoint.\n",
        "rawMatches = bf.knnMatch(des1, des2, 2)\n",
        "matches = []\n",
        "ratio = 0.75\n",
        "\n",
        "for m,n in rawMatches:\n",
        "    # giữ lại các cặp keypoint sao cho với kp1, khoảng cách giữa kp1 với ứng viên 1 nhỏ hơn nhiều so với khoảng cách giữa kp1 và ứng viên 2\n",
        "    if m.distance < n.distance * 0.75:\n",
        "        matches.append(m)\n",
        "\n",
        "# do có cả nghìn match keypoint, ta chỉ lấy tầm 100 -> 200 cặp tốt nhất để tốc độ xử lí nhanh hơn\n",
        "matches = sorted(matches, key=lambda x: x.distance, reverse=True)\n",
        "matches = matches[:200]\n",
        "\n",
        "img3 = cv2.drawMatches(src_img, kp1, tar_img, kp2, matches, None,flags=cv2.DrawMatchesFlags_NOT_DRAW_SINGLE_POINTS)\n",
        "plot_img(img3, size=(15, 10))\n",
        "\n",
        "## Nhìn vào hình dưới đây, ta thấy các cặp Keypoint giữa 2 ảnh đã được match khá chính xác, số điểm nhiễu không quá nhiều\n"
      ],
      "metadata": {
        "id": "ecDolP4bxet3",
        "trusted": true,
        "execution": {
          "iopub.status.busy": "2024-12-25T17:55:02.170445Z",
          "iopub.status.idle": "2024-12-25T17:55:02.170796Z",
          "shell.execute_reply": "2024-12-25T17:55:02.17065Z"
        }
      },
      "outputs": [],
      "execution_count": null
    },
    {
      "cell_type": "code",
      "source": [
        "kp1 = np.float32([kp.pt for kp in kp1])\n",
        "kp2 = np.float32([kp.pt for kp in kp2])\n",
        "pts1 = np.float32([kp1[m.queryIdx] for m in matches])\n",
        "pts2 = np.float32([kp2[m.trainIdx] for m in matches])\n",
        "\n",
        "# estimate the homography between the sets of points\n",
        "(H, status) = cv2.findHomography(pts1, pts2, cv2.RANSAC)\n",
        "print(H)\n",
        "\n",
        "\n"
      ],
      "metadata": {
        "id": "tdGCxaxLxmJo",
        "trusted": true,
        "execution": {
          "iopub.status.busy": "2024-12-25T17:55:02.171609Z",
          "iopub.status.idle": "2024-12-25T17:55:02.171975Z",
          "shell.execute_reply": "2024-12-25T17:55:02.171798Z"
        }
      },
      "outputs": [],
      "execution_count": null
    },
    {
      "cell_type": "code",
      "source": [
        "h1, w1 = src_img.shape[:2]\n",
        "h2, w2 = tar_img.shape[:2]\n",
        "result = cv2.warpPerspective(src_img, H, (w1+w2, h1))\n",
        "result[0:h2, 0:w2] = tar_img\n",
        "plot_img(result, size=(20,10))\n"
      ],
      "metadata": {
        "id": "k4zrMH_Qxmzp",
        "trusted": true,
        "execution": {
          "iopub.status.busy": "2024-12-25T17:55:02.172968Z",
          "iopub.status.idle": "2024-12-25T17:55:02.173382Z",
          "shell.execute_reply": "2024-12-25T17:55:02.173227Z"
        }
      },
      "outputs": [],
      "execution_count": null
    },
    {
      "cell_type": "code",
      "source": [],
      "metadata": {
        "id": "CReBwaHbxpDp",
        "trusted": true
      },
      "outputs": [],
      "execution_count": null
    }
  ]
}